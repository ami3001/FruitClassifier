{
  "nbformat": 4,
  "nbformat_minor": 0,
  "metadata": {
    "colab": {
      "name": "DeploymentVoila.ipynb",
      "provenance": [],
      "collapsed_sections": [],
      "authorship_tag": "ABX9TyOG/A2NDttAWLqWeCJXlfuG",
      "include_colab_link": true
    },
    "kernelspec": {
      "name": "python3",
      "display_name": "Python 3"
    },
    "language_info": {
      "name": "python"
    },
    "accelerator": "GPU",
    "widgets": {
      "application/vnd.jupyter.widget-state+json": {
        "cee648a7bbf84ad78b5eb421a7f89137": {
          "model_module": "@jupyter-widgets/controls",
          "model_name": "VBoxModel",
          "state": {
            "_view_name": "VBoxView",
            "_dom_classes": [],
            "_model_name": "VBoxModel",
            "_view_module": "@jupyter-widgets/controls",
            "_model_module_version": "1.5.0",
            "_view_count": null,
            "_view_module_version": "1.5.0",
            "box_style": "",
            "layout": "IPY_MODEL_a15c4e0f3129486aa039a2ca178c1a72",
            "_model_module": "@jupyter-widgets/controls",
            "children": [
              "IPY_MODEL_9e3e8b17ab1344b39af222ca378d5d3c",
              "IPY_MODEL_227460db003a424da541df6b3b0d8188",
              "IPY_MODEL_876290ef310948b7baf1c916e46bfbf1",
              "IPY_MODEL_626b64be9a8d48c3a53bcbb23cc4e454",
              "IPY_MODEL_81b9d63b109e4ea4b2c67d1f22ac55df"
            ]
          }
        },
        "a15c4e0f3129486aa039a2ca178c1a72": {
          "model_module": "@jupyter-widgets/base",
          "model_name": "LayoutModel",
          "state": {
            "_view_name": "LayoutView",
            "grid_template_rows": null,
            "right": null,
            "justify_content": null,
            "_view_module": "@jupyter-widgets/base",
            "overflow": null,
            "_model_module_version": "1.2.0",
            "_view_count": null,
            "flex_flow": null,
            "width": null,
            "min_width": null,
            "border": null,
            "align_items": null,
            "bottom": null,
            "_model_module": "@jupyter-widgets/base",
            "top": null,
            "grid_column": null,
            "overflow_y": null,
            "overflow_x": null,
            "grid_auto_flow": null,
            "grid_area": null,
            "grid_template_columns": null,
            "flex": null,
            "_model_name": "LayoutModel",
            "justify_items": null,
            "grid_row": null,
            "max_height": null,
            "align_content": null,
            "visibility": null,
            "align_self": null,
            "height": null,
            "min_height": null,
            "padding": null,
            "grid_auto_rows": null,
            "grid_gap": null,
            "max_width": null,
            "order": null,
            "_view_module_version": "1.2.0",
            "grid_template_areas": null,
            "object_position": null,
            "object_fit": null,
            "grid_auto_columns": null,
            "margin": null,
            "display": null,
            "left": null
          }
        },
        "9e3e8b17ab1344b39af222ca378d5d3c": {
          "model_module": "@jupyter-widgets/controls",
          "model_name": "LabelModel",
          "state": {
            "_view_name": "LabelView",
            "style": "IPY_MODEL_693b41c4b41047dbb1f733e8a3791a19",
            "_dom_classes": [],
            "description": "",
            "_model_name": "LabelModel",
            "placeholder": "​",
            "_view_module": "@jupyter-widgets/controls",
            "_model_module_version": "1.5.0",
            "value": "Select your fruit!",
            "_view_count": null,
            "_view_module_version": "1.5.0",
            "description_tooltip": null,
            "_model_module": "@jupyter-widgets/controls",
            "layout": "IPY_MODEL_951f6f7158154a6db37bfc5e6be66039"
          }
        },
        "227460db003a424da541df6b3b0d8188": {
          "model_module": "@jupyter-widgets/controls",
          "model_name": "FileUploadModel",
          "state": {
            "_view_name": "FileUploadView",
            "_counter": 2,
            "style": "IPY_MODEL_728800366af84de68e94602422e19709",
            "_dom_classes": [],
            "description": "Upload",
            "multiple": false,
            "_model_name": "FileUploadModel",
            "data": [
              null
            ],
            "button_style": "",
            "_view_module": "@jupyter-widgets/controls",
            "_model_module_version": "1.5.0",
            "accept": "",
            "_view_count": null,
            "disabled": false,
            "_view_module_version": "1.5.0",
            "error": "",
            "description_tooltip": null,
            "metadata": [
              {
                "name": "orange_57.jpg",
                "type": "image/jpeg",
                "size": 22553,
                "lastModified": 1597704806000
              }
            ],
            "_model_module": "@jupyter-widgets/controls",
            "layout": "IPY_MODEL_f5ca5c593db848c794445f244385d225",
            "icon": "upload"
          }
        },
        "876290ef310948b7baf1c916e46bfbf1": {
          "model_module": "@jupyter-widgets/controls",
          "model_name": "ButtonModel",
          "state": {
            "_view_name": "ButtonView",
            "style": "IPY_MODEL_6c101ffbc1cc4cb5b1b5afbcea4b8cb1",
            "_dom_classes": [],
            "description": "Classify",
            "_model_name": "ButtonModel",
            "button_style": "",
            "_view_module": "@jupyter-widgets/controls",
            "_model_module_version": "1.5.0",
            "tooltip": "",
            "_view_count": null,
            "disabled": false,
            "_view_module_version": "1.5.0",
            "layout": "IPY_MODEL_e595bb5a9f334869b0de10b5ba87fb3c",
            "_model_module": "@jupyter-widgets/controls",
            "icon": ""
          }
        },
        "626b64be9a8d48c3a53bcbb23cc4e454": {
          "model_module": "@jupyter-widgets/output",
          "model_name": "OutputModel",
          "state": {
            "_view_name": "OutputView",
            "msg_id": "",
            "_dom_classes": [],
            "_model_name": "OutputModel",
            "outputs": [
              {
                "output_type": "display_data",
                "metadata": {
                  "tags": []
                },
                "image/png": "iVBORw0KGgoAAAANSUhEUgAAAIAAAABgCAIAAABaGO0eAAACxmlDQ1BJQ0MgUHJvZmlsZQAAeJyNVEtoE0EY/hJbKljqQa0PKsxBikhblsaTiJBsH/ZhGtJUaxHKdnfyaDe7y+w2VulJBI+iePAk+MCL3i2eRAoeBHsoVRER6k1UEAqloDX++2gztFqcMMw3/3zz/d//Jxmg/qzmOGacAa5uiWxvio1eHGMNi2hADMHQdNdJZjKDASYuto3VtyF3sf3v5zuOPYISArHdhPcXQtzi44kQKz6+7Dke4S4f60XNIDxKuE3ksirh64SbChKekLDBXR2oe0/Y0h1BOnV3CCcNVy8Th3D8t19zaMcbAM4cBXa9rsXGXODpY+Bgay12/BBw4AIwl6jFVrJBH2LNC24+0RmEYo0poP5TtbrSCjTcBtZvVas/H1Sr6w8px0fghalPi0rUi1g8AZTNaT3a76XZyK2RYVqPkc973O32cRtRBw2ti7ziJOEPBu/qjuJ386WePt8gzfm86Bmh9TTdfVny+nIhJy4sMz0YaTZZdnqIMNUQm3G8VDa8G+93K8O+5gma3ya1/gytLX5xU/aAz6H6451XiznqAY5QnLCaJtxMeB4D0FAGh6DVIu0sepFCOxyK2MijRB+T5va4Sew8VmnPZBXlibKsfNlUYso75buypNxXHilf+czQucra5Hjt9JoYL+kLN38gE9ze0I1OKZsWOGNQsUwZwt2GlynJu+xr4zyzxeuvrV7hVtYKp2r5fCf8Rnp1U2GCeC7lEaRRIWzSjhPfizRlre0d4gFHrXHeeM9zz2Zr+Zbq5i4tNr6a/Uf1RpBLxefNHHJFtsTsoZ1HU5f8SHklpqzAt3Qoi/NSXpMdDvoafgc84PjVFaNc8PiM5//4Vdu5IkqFosc6FSXBkvS0cKbaZWfa44L1WXpHG9NMkwUclwnuclHhRod/N/zPB2OfqpW50Jj/tGWEnS+ZXHp9dj797/EHpXMFEtc5opIAAFI+SURBVHicXf1Xk25ZkiWGreW+9zmfCHlV3lRVlSW7uqdnenqA4YA2JA0GAsQLzEga8cYnGv8c+UKDUcAAEoIjMYNRLau6u7pE6ivjhvjEOXu7Lz6c79YMEZZ2za5lZkR8R/h2X8r5d5+dA0gJgOQJdkNjNvm58D0eH3uOjrVpVbByjabB1c0P03w24mLD9crWK4yDhmIwdSmJBEmNo5cCNw2RSiqRgTnUDnnc4W7vL+/47dv47gerj6+n2NvrfR9HbjdcjVRhIGFEQa1Yra2OSUjpii7x9TcOi6tLHxEFaSsMI21T2/rs63tNm832cPvhtF8/O1ufn7Vjm27eINXkOUfONh8w73Ju2PH6j/3Ti7/85Y++v79Y+Tzx7t20Wg9cN3eZwQvMSIKEBMkykMnoOXX1UN/7b3b1z/e85RlRXTkOyZCRharFnEkKAIDMlOTuy19LBUFKCSDMuwCkwLPo33N8p+rCe6m2LrlyDozB5I6JnmGRqUR2u7nLEAVGR/Q0uNFAkWnkasXnV8P2vNO65Nk9QtE1HeL+WPZhq4LWdTdR6WXUbHjY2WEm3OHoiAJV1zD42SUeXdf12qZjB6lcPgVoMKMbSsLKZt74u/XZwHGevhymh25N3NJMGfh3vgS4qLk9HF8/K22zZpe/vWvjuti6lUHuKIVeSBMpM0LIzExkMBMlMHfOzCfqPwj+4nC4xYw6mmgkDUac7h1hZr01ku6emSQBFAcggZQUnMasHeYRHxGfjHFd2lnJOrCWqI7B4cRgWDOd/mbSq6P1d2nJsWgYYzXk2cgRURBJ60JLHe7jV285nOnRk3I+ImfNRzzMeNvs2yNFmdrtYXg4NnfujvBIL7k9Rx3c3XpmhCDL1m+/ycPrfPJ8HM5gtffbUs4ll4xGoxLUxvm90bB7NZSs14+Hi7P59vOc3yqWd1MmF8IJh2VDR1w8eD2fC9avb6ZN4WotW6kUuNMLzZYbbMul8oKIlCuTlmamIuznPC/8YLDDhC4rQGGKcpO5KBUCSjeQcENPEQJQzF15epAsT3Vom/NHpTwueVFzVVVH1cJicKg6aTTGWR1f7rA/6HJtV+ex9hgLamWtZiZISSiRDecFxzbf7uqvb/3qsm+2mnc63Pubw+rr3fyD6zK39q5bS3syxNm6rDdmNRKipZkIhkSkpTGKmt19Odm5GcfWZiWsGpiAQEbI1J6uS9Xajrvih7J9Wng9v3rZBAEEIiEJglLReezytO0lD4eIHusLDCtxRTe401xmAmEEQEEZOD3TZDGWokiejf4w6rH0DvVtpmC0pa5IgBsMlko3AsxMM57eAKbcXFIqK9lFAtfOR6VvalsXDANqzdHhThK1uhua6/UL9IkfXcSjLYYBTpaCUmgFpGiAJZJqQscw2eB9N8fNg27uiIK3M/7qFu+Isxo3R96GfXYZT68wrFQqwOWhw1IbQSMIAZkYtB1x7G06Zs7Ko6yIrkwPgIqH21esvH7ycW62d6+/0Bd/6lLo9IRlpKchGJ1o1qe8vR+Yb67P6v3r+XzF9RY+gsXpcoc7wZTgZoBoJmdERoC5XGGExeBY027RnnG+yTXKRtFgMDMpRbbsBjoNSlFGS4lEcU8oScBSYKGPFpee2yHKiOKsg8ogq7TCUnwcCzJeva7v7vZX53Z97qshq6u6rIBFXuAGGJYHBgXRQMvqXFUrI17v+u7AP9uPP2/8nbU9NN2FfvRo/uCxrTc2jHBPc9HI5akGAAKUlKmUMmzbtS4sM2JHG+nezYQmw+l63b/40n0ocMuIREoSkEJCwWzoE3K23ZT398dPP9LY+JB+tkEZwirMQZc5zGBuMgmS0tyYYhcNmcguEQ7UGdV7+Wh1vl1f/0Wf5xaWgxdAJEGYOwWkCNIACUqAxQgSIEyMyMasEddDP/NYmZXCoVotgsMsS7UycJ/nr1/eP1mX7aavVxiqBlc1WIFVWAWXEz6ZAYFu8IIssjmvOlF4LftlK+vp+KxmD3xwNnz6COfn6aO8wip8oIOCCAIQUrl0IFBCKTQmk8npLecdBsKZMIBELpcvOw4CA6It/yOVzI7oyoaccZzy1d4r4juPxv3DcVVWZWju769+pVF0lU2xtY9Wpr5Cn3XcBQGKAVAKFJTiuR44rjV8f7j6Tb5uKGMtQKIbuHRzpixGSKUMvfeAIJYKkpSWqohG1LQz+mjpAiFKTqRggCKV+urLubJfDr4euCqqjjLAHQScMCcdSXkyqaAkowvOUqlZZ176Rf87Pj2SLrdYez7dHsYLt7WKwwfYIBUZxVOrgqUzUy4XEewJmMiMmI37B9Ir2IpBJAkKEtNyuYVKpYgwdUZjO6Af9LDDqwe9ved3nmtTeH+w1eVcCt1lywPnWc0D8tWGw9aGSwzf2WD/8Ov/AZzpTsJFGbJlKThbaXUz7X69u2j3t7qsHD1mEiYRpOBm1YGEUk6j4dQFGRmZkgx0ulPudMIkpNqM4mY1Iw3S7Z1u3uyebmwobWU+SMXk1VSDRjO6GyAoaXKyVMtUJphkR5rW0Gx4pFCrLw7z2aacrWPjfSBRUAeymkzuIiAIAgSKMEQsnwZgCvSKMuDlS01RLtEHahDNEAIkOUkTkMoA1KQj2iGnfZ2nvDno6zsfKz96qmihzmHsqEQBDfSEIxWE532O6+/6h/8ebeV3f1m323kSWzcBsrS0Cg8OG14ecf/X9888b7wfIwE5yISZEWlGL95bk9LMAAIoMGA5GIxICzAhUaJICdZDU2Bdi8M649s7DsbNgLGiOkphqWABRmORuzGFyCqkBBOh5aXOkFGggp1HYgNXd8kKxsJSyAqvS+dDuMyXe0lJCGbPRJoRlIAkEklDVE7uL14cn0d51BVr1lF1CASSgGRmgkVGTMqD9aOO+/nbff3l65wO+Xc+W604Jz1rZmF6JmCCCQTBBMIh7V/M/fb8g4/nN3dezxBHqBuAzgx4sV7SRoxjnFdQVjiHvAwVISYMdINBc5uW7ieiS0sbagYsTa5IMtQUCRmRBAFJrekN+fG6e+Phtl+PvikqhVbhI3wgK6wWFlVHzGEOe188lglQIggaaWxEZq4UJcD0Q1MttNFsVKmCCQ46S1l7BRKZ4QVy79GX9gMCjQSpHKTtRr/Zj3/9rX46xSdXud1mHVXcDDAimUoorM3YH+zhIX91x396a5cz//7H+Xg7E0ykDEAxNS4nPuihJGBMytot7r68O+5WHIujKDrZKXkiSNLdsmcZsF5bm9M8M5SRpvdtBASQNDfvPZdrLqks92E5BgLp4IF4yDTZUsAJmLEMoud0LDHZ5iytpI1WR7MhOdCKDbUmAwiAZoTkRaQt3x+iugAY6EofYCTFMQEknF6seqeD7j4M5k4nh8nsuvpa7U5zxCRk0JQAOkxm8GTWgr1cVbeHGCU1jmu5ZaXTQKD13B3t3R5v93a795/P5Y+P+s8e+ZPNTmALN0ctsgYLWBokAT2TpIExHxgH+/U/Xm8uUM96TJmMblASgKFHChRgpjJoDh0b6BWCECQhSSBdQi4ViVxgifLbuwPAkIDChtvWjiusFQTM6cKqJ7zsplItzIKWVkiXmQiQKaDUmi1rcYPcitUyt5lYBjI5laEMOlSF5cqXrkgoshRaEd2tuLuJGMYz1dW4+QAwRZ33x2iNxrIMU2QCoIyK5JDt47P44HGOZt5sblCizxkdvWEOm2h1wKNLPXmUP/D4O3ejx2FOjTMC3aoZNc+BJDKl3/Zfy72Awnpv0l3oLtCX9mD5tymlILiAAsI5dbuNwsKqLMWVqfePuJQAzdzdMmXG4qKMXZkkKVMKfN31uvvzUjy6GxLMHmPhPoxlcpMZ6QhXAZhAiiGnAXT0shrhtfRjX7NBFhkJcXlcqBAJOlhhqxi6c/aCoDMIMgNzGTyHUs6e1fOfIPNw8zPyvtSMDiQrBUjUUjpGxpN1ud7m43OtL3IYQ6oxoR/z/ha7uzxbD+snbbVO81zO889imic7Hq0f+tRkBDRMU0cWqCFlMJywBwHoSAAxz1geXUJEAiFEIsEudaGHpoZXD8NDlA0ykJZwI+mAUmkmL1RGj+7uyiy0pU9kZIYKkaJeZvnLnTZWvAaLPBMFgHrvJIw0gxnNZAbzBeSL+bAfxrpenZft4/L4s6Zejl9bv51v3i09QxICjGZcRkornnQioJQb5ckCqybIpzcscbBHq/PHdb0+7kKRJEX1rkxIygQILxwHnl34ehvD6KWq1NCq3DT4Gk8fcdgcuWYpkhiN6Un2Uc6WcUDc2eGWkegRbZavoEQmzQUgcynRWq68li9ARAAhKJid2Tl37bqO9+OfHFLDeiQiOwWjLVO8AW5GsGeQSMnMiozeYdJMBNCpmhLqz1sf7uP3z3xb+jZNhnBlwkmzpMHd3AkPOcygUHHP1VaPP9l+/Lfze/8J3/xpfPFf6vZlo0EwSNJprE1FhkcWIBFGqg3MDkIFWVRRI7Um+v6Xbf9ltn07PCiVKSkzAJi03Mjs4Lr7ylVXqEOvo0378cWXs1msL23cJgehyounkqPCQFKJIY0rYat2ntO7vHvFeW/DqrMiTQaQdBFAGFM4dcULiiZf7kCGoqlPagcdJ//lfb5s5enoLRvo1XkCqrjcNYOEYiQFBrFUVOVpEqMACgQ66x936sg/DNlZeiOJ6HA5IECZIm05Ycw4jmPZ1IJdAY9l8C/+35gmNzy0XgxNubS9/39fBJKZiIZpQu3GlOaEkJJqv3945RrQLYHM6K2f4JdT9c1MRLdoiohhJL251WnnX381bbYcz1BWYIVX0qQSqoRbbamEMk0mgw0oVbXGUK09RLRB2ZeqzaVWYnnUFwwB8oSlMiMUHa2hT2W/w3zAt7vyz+7bZrjwNveqCpAW0UkzN18oBWIYh3malttZDOqGkGWQkBkIImXonfZnB7Y5fyI+t77a5NxF5AwOZDKlJEgj3MtmtIqmWtDsxZ+hzdycP7z5Qu3geZrqIEEGUiamOSzUKRxmOx65btIYmIFE89mToro6hC5FLlAklLRELlekGzOP86qzr1dei2ka3n57OL9iPZMVcpCPtAoMyGqQSsogBXJhdyqQJK0ARs3C8a6No7cW7M4iWcBhQQEshFn0FJGB1qCGqdX9zvI4f3UY/uELHn39FDCIKOoZSDqSQMKqJ9Ot2FFqMocbC8g8AQ2ng52kGTNF4OD4025f3fL3h/ppnyfAVxlSvq8lAAhm5uF49IlecHj44vjw5egbTuJuH90mhSQkMoFMiCkohZQSGdZmZvhxPxWJhT5SoaCCWHoQgJZgEMFsiK7oUrA3zEfsHtqwLqWmUF7fTuPW1o/Qa3enjfARpUJOOCB4y2KQI7okyaCkGZe3UR37L2x60LBRHHoZzUajZ0IiFJJnhADrXb2xCe8mzIe4P5R/8ML/ei7fv1hPpRncZ8kB0syUSioCYCjFRncj4c6SmUZLgYBoqQTkJgBIrNNUti8j/vvj9Lt983jVP02bs9HASIWlk6Il8tjlEDlMCKF59rs9Qi4JyqSSJkKIXEA1Sdkj514eZttmGzo1o4IizSidusxT6fp3oDTOVEMcFQcdDvam43sXMmY7FGVfPy5lHXTYIB+4nOqpHEyleDehAwkSkNWCoHJKtSQ5DDicjf/mZ/OH5/XyrA+rLINKrVaSUDDnsrRzfkyklV3L6T5e39b/5m374mjfuxorEqiZlmxmJjJEtwCX220KuZFmJKOr/E/KspmZMhcGxyUS0T4o/PEGn11OGkK3ZX9AbAiHumUBM0+zHqWGEAjOiKV/OP1JQZCABGSZWLjMmGOa7Kt3KE+w3aQ6c9Iw0gwBglyQiaWHzkSEsqOksmE+8Ljn6x1b4tGWlHZ7K2MZzpVVdNgIG4gieVpgGApBHy3ZoyfJiARJQnYaFt00rPWmrn/99eH7l/boCushKrsNKCCKtZUfnAFrR6ljfxs/uy//3a3Nffvdx3VVGAkPAcli7iZla1FWVooZDJFuVotnJoTeoywfLhMLfoX3zRZgSq4zvr+ef/qYH162UqJjeHnU4ZjTsfRSLGUpxul4MiBTPToJGjMWPMIgLDVtmUgkUchgdCns3aTXh775RlvH5QV50PE2rULGYvACrkjAlnkngeSxcTpmv+PrB//VrX78Qaljnyf1edqcmyzT0oqREuRm5r7enhUfwOyxw8D52NtRlhY9KJVmCQXZzYz9h5t5Zqkl9/fY06zSigiEFMY0yWM+8Fd7/o8Pw19PPB/jd67Xay6veJqxGozKTHe6m2CtpaOPtSxjMcmIIFneP/hkSO/nDgCdPGP7g4v+O+d5ViMayYLIzRj7vXb7PBuNNX2ZqhLLxREsJXdQyPdM51LNlpFxweWzK2b0SZG43+np2frTJ9PL1/5wjOsVNeHYHYUDYlXkG9YBlctoSkS2puOON/fjP30VTfpfXrNYm6LaWhwyQ7Y82EUIFJZhtbHt42G86K0VHfvDtzSZJ04szfKpWV29ICtXY47Sx48UwNw1NRx6PfScw3YHzWn3jP2cf330X0+4WpXvX6y3JopKFdK5cJAUZLTMnKdeSnE3AEYuFzlTpXiB0kQQQVgiIZkEnuf8Ny76jzdtu5JWvnLRUqarK4JlP8VuLhyyBvwE2+l9o8kESaRCej85cjm4mQmFsqsFeuftfX144Kcf4/lHptd68cUQZ32zRbFYf//Sir3+xduzG60KYyOzE4s7zXx4Ux7ete+dkYWV6cA+VAbVc+xZ6uSaj2NFKRDCimtYT+ViGK7Y38TuzhGyY5RkQvJ0U5EiJEHdXOkqa4ylbymFN7UQpknzjDk4F+17PLu3s4f6dakjT3ABWLjgtZLcCcy9U6puxR3IWPClZY4oJLMYkUoJBJ2azRIYc/rhJn+wie0W44rw8EKeNAH+aMDNSz0c2jCiTrC0AkEwE01GLrS1yJQWOYyBkkGWEW3OnBFHvr2zX71IVT26EmZs0dejvX7Li3m8WO34y3fDUC5Es0xadHVl7zZPvt95i3j6Eb676WrWD9KZedAoWvR6eb/+3nz7m4+mWx9TiJh3/vCyXF6N62e7tissXTMy+tF6WEGW7J3WTuWXpOpg4zrpcAcg7Mq8i95gVkbPNXLrvtpqY/j5w+GF1aOVjUB3g4AFA2dvnYixOI2ZScWCA5kssy1ii8KUY8H+ZaZu3jM/tvjxlk/WMa7NEMVMDiDdrVSsLkAbbl/Mx4PVZbbjQizIpEyZGQyy3/IpELkwqH3CNBknHu7t1y/i5YGfPS/rldp+tqlsTavrpPale5vcu4YwL4J5toxAphG4fNK3Z0koOvKYfeeHW2CjrE7Fato9XBAXT+NwhzRl763ZILbb/ct/Hu3zLs1x/q8PZz8fPjh3+3j667+lt1QYFwJXCiuFvk6vzF7evbY+Ryl5sYYY8qRUxEfoH2f/nZ39+t30l9PmS2yQgsuJFnlCa+inb5npOBV5LX25DGIpYicJmFmXmFpn/87Wnqzaas1aYE6vksOc7qo15Lp8NrZe7t701WC1ggvhZaAxhYzllvK30++sVGfOPu+Nx7x74M+/0ee3uDjz55fe9/Mc3E/pJc/WNq6x3phvZKaYVGlGJESyVso0s6tBszXl5JDh7o4FeZ7ZwcK5HL6hex1i0YNA6MfbXY9ss7eHWVftyf+RT374JO8P/eG//iav9g8frI6cPCNitsNDXj7XMNru3Xj7rg+DttfwkjREh/pyZoQRg7C6yLONHt89/PXN9BcxHjT09FVnLnqW92P7SWOQmRBBMyOdYDEjF1ABEFGyP7P4cJPrdZbBvMALvMJGeYEZhspSrGGu3xm+6vbuoZthYxQkY/eUIKWB1hc+HZIikY39wLbL23v8/AW+uB/Oy/Tdy26Ku3sdZj8GPzj3MmRdZV3PdaQXszN4CTedWLrMEGoSbp2IoDkSmo96N2H7xPuxc8DZ9DoH+jrNWYori2VV9NLVpzU//c9vh7/7mcXztjL7FFF2hzu0v/Be5pbHB/aG7Xm5fd2Ph+PFlQ9jZMVpOgnpaDlbRNLgcNKGdXxcdO7z+S3+5GAvOVrNYZk1CAleK9S1ULVa8FFGdJLFmTLrSFLMapyf1n5Zu42LLJJ1sFKNNcsgqx7hu/3Zfn+8fzcfj75/kEJMYas0sb8vokA7DbpUwGfuj7h50O2DfXWPt3NZVT2/Zh306mHBtOOsViWOR8CsFBsGVYcPoklmZp6ZhCLEJMwc9NDQtB9CPv7ZG5UbfnYGlVwPvYwWbi1QxaGUKF1Rcpr72e+9K3+Qfd6n7g53P/zs0X92+Qfz9Ef567+ImDTh4T6M43RUsXb5hKXONKfjPTikHNUyAWSaBKPYrZhdXeYPrR/ZYnd4MG8LrUh4tQSVqMbESbsBgIbMVk7YsOiUyNrbk7PcDGQx83RDreY1ZX5zy9c32D3I57crw6bgzHt9Rnbi4PuWHNO4iCKZKTXMM/ZzuTvo9oD9sU8tZjlglzWvRr8oXgsfncVmtFWJYk2gkhHcv8n7G24vcfHczz54ZC5jbz378Qj2kkhkdtGUzlVVDBFmv3rdPrgermuIXWsrBVC01kFFF+cyx3STP8nuZnl7+/Av//jf/NN/+k//d3//Pzi7+zpm5GHsh3h3jHEVA/v6sVgTTtKKLVCBmDCXjDmjTQuAGwqVWrz6+ix/GPvs7U/mi6M4FDMiI7vSTq/QQglTS79pVpJccIhCKx4Ww9Y1cCaqezjTDPu5/PrLvL+PddXlWps1V8XWRYOreIBQenQej77fa56zTZyO/GK2f/igv+5DzLZSfFD9OduF+XbAquaTCzy9bpfX2owwl5ICEKKAzmyaI+Kdv3ytu3ft49/7SE+23N2v5m/meuhTksHTBCPzMtR+Xf0483DXN6tmA3xOjHBXdnZBpRCzwS4v4l++++WmXOOIpxfXZXy6uf9i//qv0IEHzfd2Tn3w0XxxVbFq7wFR0LXQhu6UCIMPqKPapD6zd7RQSDJtt/jeEV/H/ttcZ5oWXRcWfd9J5USaUidZyjKVLVoDR46WK5cDDgJM59vd8KuvuzKfX/q29FKxrqwFpcIL3Hy5EAMxZmxnTQccduoTtdPzNuyO86dX+HSrZ2tdVJnmaarbwT5+kmfnGDdGhlmeTutA9mTIgwzLFfyI45d3v7jR9/6jv3F2vp3262xgOzDz/RVBqcoB7uqu3WzlrW2lapkDOBJABpIBi9Vs04v/+x88+f1X+KE+/P0Pnv1Ovf0iv/ov6v52Po7zMQ/3+vhJPXs0+6UTXZlmZib6gqIseEt6gZKloA5Ut96ytVQoOjXocqMfzPnuqFkaSBJuPnihwk4g13s8fpmEFyV7GDvGK90WUy8cGMZ8mIfPP5/WIy4uuCk5EuvBhzFLAZilkLbQEwTkzlJYXENRnzCs4z/26XcHu/6OnV16HmfNarvy9AyPLmI868OWZdDyRp6eDQPNLAwJROYgX6WtNd/d/+L/+U8+/pufXn9ylvO9okVnhBb9glnWok0p98Bx5btXxyfNYLk1w5nKiglhD9DmhLfDuf/51erX79784+3Z7+2++qv26q98QjzgzesitvXjuYy1WCSTBjN5WT6gvz8EMjNPPWahalpBGdmb2p7RkGM8WeXVYfeNXYKzwzOLWThRKFtaIYiAlMXMkAghFaH3UnYgAKC+/LavODzazOtR1XLtWlfYAC9Ynj4wM/UejAMkL0AlpJX4fKO+x5ubmYNzgu9ti7i+sM1VbrasI90Ii6VTA5AkFnA1aIYUFz0LTLmz3/zRl4f92eWHC6otgMTpyFn+mBv279qjsMM772qWFb2P27QC2iLsy0ze7w7Unl23829aADP2D/bNC774Zv79nww+HsAuBQgvtsh2aFmKSSJSlkxAskRmJlGI6AKAAS1BzzrY0xovW/SyotIBc1dGa70YmSRP7HxJZbFSQkWA8kHK7mzolrt3tR3x9Dq2lRVZHXU8IVMwkWBRLgYEgbkgPTAnK5XykK9wfYm7G9y9ze3ghv74cbm4Vt2wVJQBLOhwppbvUE/tbMreg+PJamZDGhlT+eoXdz6Mq9Gy0TqZPUGkBfOdYp356daePopj8OU7fbNvjz4Yttdt2PRaZbZIK5E9oyOCEZwnP97137wqP/9l/8Fj2543gkIq3AxL57vwryJ8GIey3cexzg/Z/GjucZTgVlmQ2VGyEiGrpusSw7H1rPAELWTFSsRMYTC5mxdL9RIRBuMyxkOT6S5x3WuZdHvTV6viw9G91pLj6KUmi0D30t0FrVhES/QE4ABz0crQC5Pp4Lpx6/7VvS4u9NElzi7SNtIgVUSRORfelRJj0Z+KC3DdpARCSbpk68CV7l/xi7/Kz75bkL0rMr0frOU8787Ksf3kO3y8zTLi3LQ5X7180V78ct5elfMrna1VKukwQ0/Ok9rMedJ+p19/w3/9slYcP3wCc7PFlEB7X/QFsJutPLC6Ln/jPz+z0v7N/5U3X5T0zNN/tryGQi7Dpxu3AwZmmDXQaZFhy6htzOw0W+p3gTFiOdHkrN3G1/P80Rrt4D3nR7VtgWpZCszSTe6wwk21I9er9eV6uzq0h2zHOLY+t2QG0ippChpom7FfrezLb7G54OML8yFQi1WiBArM4U6Zl+QoTDFrJmANgAstSXggkyoatjg/lLev8/aVnz+ioB4WR8xh3761pxtej5onHDtkUYd8/LGvH7FFpNtx6jXILBkxTTjOOE7cPdiL+9Lz+AdPWgE3G9HCzYUAk0gR6YsOuIVbOX/sj360wuXx8o8O9290nCyRJJDRoS5P62kAC3NtOVCTmBbqUSUUM4lpxuI0hUIopxMUJI09Jh+/OsQnqxyygRhMZTF4kO9pHJmjnH189snfG6paHEe149d/7vWmo2uB4UJp4Sxy2pCbtW+NZ2PxOmmAVXmBucxl1eiqDOeFjx94u+sPr1wtk6AvRhMBQCRAYb2xWuP2XdS1JBz3OR3yuKuby93za1ttmBalylfyIi8aHlMLVtVLzIEAu02dX7/MfrRhlZ9+2DbnaPu4u0lbZMWnL73XVhpcBnPKptfx1b+YVx/VOpUVOTky4f8WdFeqtYxwg2oxN4serCo8aYxOiEO+b4LAknIukgmn0C1WL2L1613/ZKirdRaLwkLL9z4pGAWnLj47u/ph9Jv26s/s8GU+vMZo09AtBJpEUwHUS89ubrjaYr2eZUAttDDCDAtwXjQOF5/Z4/+II+3Nzwb8bJ7ubO6IAxyitJy0HcgcKlajv32r7aoIsXvQNPH83C6fwWtPsI4slfAsToDhJ53tvMrSmJPQ9XiLWkq7t/OtpOzJg+M4LEB8SFq0hKSDskX5QSERt69L//9g9Wh39zKnOdFZQJhysU8yA61lBAmB7IDKSaIKY2QAaSxuXBCbZQ6wpcVt0cOyRuwqf9bMsn5/MxVjsUqbfvtoSPJIza92X/0TtFvc33S8ndfDtxNsNa58Nsm72GC5uG4KhbONhnXY4CINMr73SBnpw/jxf/bw/Efb1QcrltS+t33evY13vyYFErZ0m7JA8fRB98fc3gxeeP+gq0t/9KzVs4AVlsQaKvCEAb0wR4LJnhYkULEYZHj+SA/Zjgeu14boSDnUjopOC1qiFC4UX0QuT+2Uxox+/JL4IoRMLm1bJpRKIZY54P1I05W7FlPhOkmomGxhCp3OhYYXgEJSRGQsOsfUDOGNxt/M+f0UlA2tpmikFg2diUMe7rwdNe3ZpoMfb+t4u3fL9YvDMM7+eH03eg4UyZRSNtZSasJh1Ekdc0Jri41jHn+1mb4D3vh49m5/uzFMObl5RhAkBQMSNFhVLQrq2x1GkRzWl93WnRXMtIE5ICw9QciXfnFhWg0wLXrIDHntZ5fldtJhQnGXIsTDFK259UQBZEBAUCyKJiaTwtJy53tqTwlEKoQkE9kX5ZYycTfZQ2Nsy6yjmQVg5ovud1YUAEijSkSI6FoMGtaBISHYDmrpjDlFD5BAKJZGpR/bw6s0B6zPk6+wGmhm93dnZtJw9/YQZ1avauuhltk7o1kKPVFPepZFJGTKMH/c9w/x6/+LZW0vf1bDWFcsPdwgSAlCSS0CRsiJmPnrpudr/OC7vr7uPDPVrAlWWqomzAGjkSZIWERtp8HB4GKmyiq3V/b2da6iOCBot8v5YONWZhFKZC5+c2rxdJ2KwFLEtbwEi7gmgDSFFo1lT2SUzx/4wNVGjciAt0hzMgJEWNqpC2JZuESBgp3mM5BCFw9pESzdRKXBxEXJoxm58HTMINCJKdermm6Wt9nnua1y2+dYoJ1yPMbUIzuXucV0gskXpUQZn09spRXuX27OP57DdodfnLnfm2UJiEpKy/GDTM7i51O8nO1Hz4fnl/sy0goXAYgxF4PmIlddQNnFZpGAOSXA4SI8BYzrPN/4u7dRfZyndvOQV7e5OSdHFS74AMwWtP7fPZyXqy+lkEBAwejIjmTSrEZ9O/Pnd4FNGTKWcuQuvLd9LGY9GQEUUSkKDloiAlrm5KPwbo6pw5NdYDCTTEPKhRaNI21w9sgwUaPtBrurHpOirLPuwUmcOU+2Oyg8+8xswioWaMtkkCpWuf9yGB9Nh13lAWWM+c2qrORdZYkBMC72PMrdI807HyGvz/HxWasrlooqM8kWL5ZTLjmM8N9KabnUBcFNRI5QOo6sLc/X/abYfpf7xr+eBr/n44duKyFL1vDC5XKA/1YpTSw8PiVCqQ4FFabIBJWlR/zJffm88YNKRs7GwhQ9RKMF0t0SEDy1iJ6V0PLdc4EiTOzi2yn33dYdLJYR0VCMME00yjjJWpgE9MFgzmSEIhM+k3vgyJi1v+1T18Ul51ltwrBZSDmkZELrR+93w1iho9Tm+y/Gwnl+mPvspGCLNVWiUtFCiei4HHBx1R9fAxv5SPMgRVNWpsMHstCNxTxagMoWFtDipE90ZhZLMkGI57v68nWbh/XDo6ubi7MXb3/x8cZyHYvaydwovB/Kfls+sUjUlaZQBjMY3aJ76/FiX/75G9pmw0yQRmZGMLtkSNpCkNnS3RUnzL0DavLMZgyKpmdoF15v9nE19HRQpkW1mMghQSqWYSmhxJTF2B2Tc+7wzhqYO9s+D/c2nuf5M2u3nI9ZG9VNNSFmAhnT7nVvt4zMrl5sntkjonfSFGBQAQUymE3R1FoB82obdeO1ptnSp4IOstBhxVbr84DV1RWPctyBr6MTXYqFslZmLixss9yuYna8XY3THPu7dy+nPp4Nj6wZIaYJxmI6WbgAno6m4KJPjcjeqUAEcrbbSf/8dX3R8juPBssUC2CL268jFy7GYAkksmUuwqzTJO2JSHfEcz38rXM9W/F+xrujrynzzFREArATeo3offEcKVNCB9FZD9JRrVubcDhYTz39kJfX9u3bnGf3Y9coLsiMVColM16addhdxJynqiGFRSOCSETPmJWN0dFmuOHsQlZnYwFlS8QCZE6vp0dzff70vl+cffTp/PLnjn3ZbqL13o5xPJRFodTSOpSg52aLN1/vHnH66eqY7l98G4W+fZQk4YumXqdmDCeJ/em3TGZaJnrj8ajbe/3529V/s8uPH222RBMWaMaNgMzduUCC6EojKlmGZAO1uNJlcj3L/gdrfLjNyyHOhuF2l3vGprAUVnLBJxOSMQkYTkUSUENOiqOYnpPaHnfN/LGuP7DVaLbux0SZMXTLzvROogXcm9rrxYx6AqVFZWZ0hdCZDUqxV581t3x3l7ViXLNU0JiQCe7Wq7yQYqnn4/mPhvOP1jPJ9fj4B1OxbK/aGBK0l460GWVGIuhEFj9r6+PwydXx0VmWYrf7/PYFPhTLtdnQaQm5KJrATHDJqomgJIZ01PGI+7391W39f7yyOtrjYiaMtWgR/JhlNLoRJ7K2GgS3sZb3VA+6cCDP4uH3tvrOJsqGa8eFYc76at+eVyiBwGokQyyWIow5QRAzU8rMPkPNrNtxFzcP3lbx3R9tbbOj5fXj8vLrNh2KlzDBg+YwsygZC/hN2OIAzjzZljvRkV0p9il1tNsbHg/68PuDsUMEO92yw5ZHACHYULdjfXQMU9ytejvsHkp5xGE7xS/Nd94Rs8FkjsWia5aDca24MGzdVgPO1vZ2p3dvSpv79oLjiKGm2eJfXdTgyiCSSuWE6c4+39V/dqv/+nV2X/3eOQd2t7EseTUCjT1aZgZRjFKaOcneeknQ2UKkDWb2g7CP18e6iTOr5kSZn1/X1728vI2nW5cpA6sijRnOAiA8UmFVZ9f3sfrzduvePnmRbx9c6/b973N7uTdaQptHbXxXjoeshi6zjjqkSiqc1ALGhk7FRImMRKe6ZWPM3o99f5+vbuzyY15cR4idMidW6TMTdALIMp7JVxn7AVOZH9rDq+Pdt13z+dNPK4tiQATUAQQhJwwyZ1EtUdG8uK1zWPP5JXcPvLuxmz3WW52tY1wVd9JgWlRmGY0x8dub8sUN//LQ/8GenasfP16d+2wwnhJZRDB7mJCZKrac7YJ6hISyGG5NSGkdu49WeV5ycBQLK7KiofSPP/WXL/3rtzqrZbNv+zXL3hLiqmh9Nq8v+8XzvQ/3x8ObXf3rr9/6t/c/qvybn/l6y4zZByC9jvnsw9Xnf/VwPKg6aFLKHFbSCPmCRZ+4GQk9gUA2xVHzEW2H/f0oTt//ndX8MDMoQSrm4cUQisji1iMK2mF6vSpDTrsOjpcfbjaPZsfm2Oe7O846AD1TImgn1bUZzWjyml6zjD46z85y+/x8P13cfHl/9+J2PWg7clVElydaKy/2/tV9vJmseH68xb9Xx1fj2VXVSBc8pdabu7s7QXM3aun93CwivZiRhUxDdRIRG/aLYR4tixurWM0cpWTx+N5ndvvY3r7qb+4YslWHmbGOd3erqRn/4i8Ovf3JzP0x9lP5uvPjc5qyHdQd3sAKmMbz46OPh7ffHussmingRei5hEudfKFLlo+QzXpmdOTMdvTjXO4jvv8H68tn85uZxx1Gkj24h0xSMkT4UIH5rcexTWuMZ6yraNkeXvrQp+Orloc5OzrYwCA6irhzjk0TMZixOEzIpJlT51s9/9vfefd1f/P1y1//7Iubu/7sws9qZuqQ1kLjwA+HfrlCJ473/SA5sxRGl8wByRjLM0VbUFAKTDgNySRLRjMOC0BzAawtDlZ3cy3HlsgCUKxum5HrS3z24xrI6RCaobnuj8ftvBNVLrI//vj5h3/vT3/5F2Qpf/SrKaZv3nI0rgNtC4tubqnYbtTOy/EhnImQAuYAtZziIVuezBRTsg513ucq/GrXjj/82/npDxXzalwddjuRpi4eyEJzczB7TtNxqIXpzoi2y/HMaNYPaHv0B7VmHZmneAykqbOlx3E+zFmsCgFgkTT30Ibc3bzJQ8Wbl999hNXoq7EvoQKr7NeB7OwTHo54feQl8yqPR42H7rWnDaBZSlCcfhySFMyX2VCCxNJNIUiswGh20waLti65dgxLEBugWXdHu3mrMuTj5+XJT54Pxrb7BseIMEVOwttD7xv93k9//+7lt4fVL267/ZMvc9rzu0/98bnGDd0ZDcemaeLNHe8fytMrbFcRs07pWmKTltAECanSMtp0/bC3Yfv2x38HH/30U7v8UZ/ejff/ur7NSfPQ3UERSdGhBLrSctZMzWR4mxOapiMqemtISIiuaFg8jlOgTtPnu3Ga5iQjUqoRYS43m+/z1ee/mvbHzYjVtVkJrwI9OiBkl5SrFYa1r+a8mPXsYf+zuX8RY5f3eQ6glOX5otPcnAoJSy+VAKkymZfWrv14PbZnpV2NPhYOFm4EWXwh8pFoGYzmb7443rx6+OQnj8+ebnrbqcM6QeR0829e/skPLv7m41q18X/87fH5dv19KV4dX76p1yNWRbN41/1m4t1UWvjVDo/X+WQbq5qWoc6lNGe6ZJExH0fz/Qcfzp/85Dl++vd/9uz3bw7Hs3d/8v2zi3F4PR2dY5akgaGFiPAMtdaS8FINkf0gIbLZnNmyB6KLndmF9N5SR7ZZf/5O6TYyXNSUQvjK7vb29vV9LTi/zHpJegKAEwGH9TlMzGQA7hi3vl1nKXF+O38w2Z9Sb9INXOzwS2GNWJLjlhSzRcOu0pt9WI7fX09Xm7xwjwEbFYOiQJajcZN6KFirZCprDDXnw81f/avdB59dPn2aafedUOCy5Pn+zT/a/9l/emSf9u9y/N2Cj1bTmROOs8G2o4xxHXo26X6fR18fOPz67eFff+Fm41gPW8Nz54oxsFrR5gIffMeePd/bRz+d/ub/+ZBPLlt91X7zr/LqhX/wN9bv+gNWljFIIRBKeQQIM8p6hJZOJDMgzF0ULfTb2CZ0i5ltytsdf/mmPV2tS+4RZATSHx789ZsY1thesK4xGBd/A5IiYCer/uIjakgpC5Gj2Vl84lPdtz+K7Q0tpPfmPBVClJmBovlCCZSfrHbf3/JpCR+IirXanfSL9Qc3Tz/JUXr9+e8e3/6EKqVLpqS5seZViVe/fjXv6pNnDvQFs/y7d/tHh19sjvXbgPX+nMN10fWqXKzDRsETVG2sVecj23HetbY900vDg+tB+eqtfXDlTz+Mq/NcXeb6wkY7HIfrh8v/1XTcrjbxcHf/6dnVvn3yj776//7+Bu0h+sGF7stFD5Bg2GL4IrqSC6WeUmQuqEZMyoA6+qT5mMd9vnvJn67HjR9lNdFJtF5fvo3NqmzO+7gOH8oyZ+hktT1NoEjSJAgpCBVQURlNAEr/8cPxz/f20sbqNII0IbHIPggBkWlQ+dHF8WJlbhhrZlXYk90P/hc8+/hj2sXl5vYHBxzetC//aHj9xyyKUDHIbNzkefH7u07T40fGLh3jIuxvlHzZ5uFg/6fv+9+7Pl542MrKiFIB42I3nRy2se0W4xQXgUej3exYr8vwXcQ7XT/i9rxrVMI80tdX3/Sm+9frQ/nFX/3m7/17f/jj6+9NFz8px69XNXe3PjqHwhKCSbATjXwSUyfJzFSCaepQVzRGWJ+zHWLa6eZtfbfLnz6BRew7x7l3Lzc3ra7q+iKGFd8LCt+P+wsgnSJJJ0AlEqc40mJgRWbfmD7rh11bvZXN1Oh0K8ggFKlS2KNXk6ByvbGx0pm1AF52P/i7qw//4Lupw/4w3RzWvX5w/Tevfv98/kd/ap6lQM0gyjQOFOzmVV+VYay9tZjU2g5tn//Jp/W7j2MYeqmswyLVgrlniiO2KTMgVGe0OX3sm1Gv3vXeRzL7bFK40xU7WN395sPrP/9NO7+7XR2P/f/1X/23/4f/7X/6H10+On7dr8/t9Z3mA80c2Usoa6IwFXAtox0XvVIKDQqqg8l2wHTUtLOHW3/xKi8u8eRDHd/l/qbvrD70TtSrs+6rtMHdaR4LGmqL3UqgTmrbE0uwODqNizC/wOsxc8zvHPu38/FLrFpSDAOUdL6X7xudKMPAWlmcY1Gpw/F7f6v37ZXvHtabF1++Ou5wmMr3f//xYTQAJcFkzcwQEgGZ6rdf9sdPrR3zvtnD0a7O8/yDaSxWB5Qh3UGDquhZDDT6gvs05ZCcS6m2qq2O/vLVfBCPR57PiGo+kkkc25PDX8b68ubyd+d9/cknP64vf3H8xX87SDNtc6WblzIBK7KyD7AKFtBBwykqSifaismY0Q6JvbUJDw/l629Zxvj0B2Uox5x583Z4d5fXF/b4yuvYS4V52CJaes/HnJKtlgi+CJAyWjUAEUu+ntLhVRSuVu17aW9mn4dNPcmHRC5jhszdiDIWeVFd9G5ofv/tuPloatys2g8+/Ths++hs0O2/cnRfJMKWrHAxApYYB93e8d1N1NEO+yrOZ0+xXZED6bDqYILyZdBwwpcEO4FwM2MEutw3Zh9An7/Q61s+3pCG2TBYNqF98/ps999dPN//5LP/db7908O//q+8vWsgFaWgjtzveuaQY4seLFgAg5M3Qqdrl6CC017tqB46TutvXq+mVf+bP41NmfuxynLe6MVLPRnratVrlRWU4mCeAmqWRLFTboqKUVXZM2PxhxqBJdSYbuZY0fZDPJ77kym+ysTy1qOTLjiMoXBn8aJSFhIVifn87i/vzlb3Y7uqZbUhefydJ5vX//0/rHUBoSjZklZCwtzqkKtx3D20oeOwn68e19VmNk+wyDMcaSwkQsxFXG/FbTHPJ2QOjpDFkiPybPa/fJEv35an3mnoazfzOqdezXHzT/b+zxRTWfI3UxkZHeOKu/vy4su8vCo+Ljb8JfMtyXBfXN5QxALcH3N4fTz7fB/bH/ztD37/O3N92H35L4bpc4GufH6dmzUwRFT6+wLzWyYSp9QE2XJvM+vgvUUKmacPyIQyF8PFULnyvDB9Gz2sMON9SihS2Xs3WLHy22hUFqfe/OPP2r/cPn3KcTjOb3y/f/hjDDtEASIWsTxOucnykjU1ruL1A1/eO3P+aNWTTGMpaZ7hvK16okp0FKKwrIosWgst42g7BZoBYOBinatRP/vaUOol2ogYxgwzOIFumTBf/N7ZYOHWqWOUHl/v9F98aT+9rp+ObeVRBiyCMjcKYohRWqDPejU+/5fH9ad/66ef/M6PPn30YTvuhu3n5ebzNKPnxdpraW5w+kLQLueuUzRLYxq8WEfSrapo6qpU0Iw9lkiYk/O+SaY6et/UiVOBV7IAFkp5Jwg4xLLo3RbKGyUJ6HaeDl+UNY1SY3ShEu+t9EpEj4UcNedQoglTqX/5av7uo3GoM5jmMgszoHgtYKevhrquPnpXm1pDoZkhuDzMS7JfUFbz6bD+F5Pwmj+aefEY6zMMyzG+cF5SLPlb3XpDn+Jwi8/flF/ddltbFbZeVrXT2LFEeUNCHatdXzx7dsaSf/v3//fPbsavvvqqCrQcVuM4DC0SMC/cng9uzUxm+e8+///2AHCjm1dfXT3OGNDn2L/Oh4lBT8uFNlxsua7eBWlFV48eMdJPbz6VRgARWaTlJ3Gxdi9tl0Wx2aW+Wa8mztOxOTyX0NRQBpaBBpWIwtqA8QX0h7WBKH6qk2VV1hePLojDu7etDqvOXdtxxFhLQOpBKQsXfSuDBpuRWvXLQaXaq13eN3t8OZyt+zDCB4ul/xDZIWB/0Ns3fHlTv9rnRx/aH6ztfJo+fOabC3jNLAyokDbW1dOL65/8B4Nv79/9j8fV/g9/8vf+8Hd+7+tvfpPC2jTvHgBkhhLr7cb6MdFDep8fowW7BpQRtVi4XX/0nen8RxfPfnj44o/sfjjmN+1hH1zIGpgVMlvvhAthhinlXhVhUBokj2SDQPufhnWcfiQ1bDaxvfDt1fzVLyra1ENhkEXk+/cS5i7DYvxIYlXdXe5aNhCEJNg9/OXFWd0f89iuP31cNt6Pu5Zt7h0QhTT2NZnUfWCGA2tyZbi4xjTj21vZXVlBK9MiEy+FPe32gLe73HcbRv3oB3ZxcdzfpDnhSUv3hS9DIW2loebx7q+nprx995tf/xf/5fZXP/3wD5607RTz03c/K29+QRCozHZ7e3+9PvHvmWKeFi8sp7oZe++bx8+OD7f98Je3t1/Z7hXPzg6j5ZF2DJ9POpXu7G4JOlBCDqvDwMMhl3wQoCurE2QBqCScy6y3CAeH7Qbmq+/8b/ziIr/8q7AVcFwSqrRETaTM2SnVrL1yODYMZFvSNgEMbrTYaf71YXN3ffkslBnhUXycWyT6yRblSw684FBhuoqhFkvH2uziOlTyOI13d3bzMA8s21Ebi0p5+qrq8lFeXnMcozXCESaJvtxYoHCpCXNMD/bmq2m/Z4un0/z89s2/mh8KHg83f/If375Yaz9pYZ4533cWU0Wme0ktcZRmy2FQzVuPft+Mmnd/pZIJ4s2ieUYYoyPmkGMv9GRM3amJnEJxnHvkaL6IF2mclVKWpVHLBIlcgmfoc5/LxaezBb75s+3Ub6Pz5EgBABopJJjLxBllnqfIDdEyI5UOgHAHc3qkcRvhd7vVeI5yOR/3Tmszs9PSFourS5bsZMOyGoSCJTujWtD37flo22sMQy8ukrB8FtkmHHZ289ruPHxdolv2pvAMMNMSMqSklI4HzXs1ZpN1/sfT9Oo3/8O9+UfHCY6+hERkzmn7vV1doPTuyVM2n/G3krh5bjRrt68WZ5ySkZrnVs3RMR/Zj5ZzBu3AjB51HCJ5v+ckMcJPqi7wJIZTCiU65TKDTAnYYrI4zuuLizff/Km9/EskIs1TihNpTlsy5lBmzDM0z1+3occ8qWTO0CLWiDxgW/jJWX97e7PeFEXT3TFinzlJabDIvrhZIc/OtATQjnbb9aT3TNvdY1RenXN9lsMIFLEsOk0Tkitxk2Wv4x3f3eoB9NkiLbN7QIUJKA2dSz5Ob1IwApH5SPMVYIVTuiKiI1rOWV7dxkfXthkQkb5klBEL+WaEmZlZmgKp9y4mdrZEb9lnzMfsTTSqoTjGancT7id2loWS7MsVDtgieqXKPKkuYgdBhsIlucbe/OpPEl1TU0MN9pR0ymY6yUZSCiI8e76eYg8+dGSwd9XBeoNTh8OxxLQ2GnK9He/fvglNPoAn0RoWpEwtTaWneuom9CLiO/B22883fn2R9UwcgSIfCwtSgRRhnqY5Aaslh43sZn51wDQ7BAWQjDzNYFoyLjsilEJ2T4CJBqGzN/SG7Ngd+97sMOu8wWaUKhBm759ZKTMXmleJCGYuuV9oDdPEPmnaLZ+ol2pebW46Jl+3mOlQnqpuqpi7myFJlf2MQVjBUAEKIVsWFxxaxGKFzoweuUhjCDPkwrIxEjnn7TxOk1ab9ZvWojfNbGMd2bqoli207CtQ7kq17NZ7LC5+CYpTnGN2ZrcW+e4Qb6aCjmfXub1kGdKKqyqrfEA6IuBmi9RQUFkJo9zjE7B2O9zmdObVwxppgmGh9xGmZKaWqDgSvUtC9rQJ0Yn71Ve76bNPtnV13B+MBQZVyIcSlgrVUvQ+c2rRd8KIWBRXzAnvjvaqswa/d0kVHJN97m+7vZpla8eSmIeloKXz5M8uhwkRWpLEJKmgiBnZ5/l90gEiTkS5abEcW6Z6R5twPOpml2dj/e4Hj1+9u7mPOI9D61lMwlLis1YHNE1HnmZ5U9eSEYyEJdGs7SKO2h347h4/3rZPz7Q9R1nJhiWeGlEYlBIiOwAUDbUpNU2DoW6sSx88wptvbf9WFxYRAsDKNIDiKS6KESKUiejIRG/KWfOh/oN7NQzfWR3Pxv7uLbTyKBonmafGJX45ljR30LUkgkNY7mjPSHu1rV//8IPNy8PHu5txCpFz2Nu57AO1IBGktZ7FPKCeyUwAZZ6BBFJKDYFSF7euFtgIeC/vFk4uSCGbT1Pvi/B2x3Y3/Y2n56vvPX/xwm/efvHhUBCtZfEWXimw9ViclL8VgCGXf4hAb4pDz9nng317o2Po33/iH5+Frc3WhAsFNDrQe8hIIwzhPvdhHygRgMygqlilb/nl63i+qZdnoQZIdLw/SJnxnvEPpGyeczra8SF//pL/6C7/w0tfc16NNmx8t5cXMuXKKmM1OE45VJQEg7fWzSvRPXQQ7iaVsjofDjpEukGZR/vyiL2Xp16QvZinYoFKFulTACXFCDbJdAqPy5Q7zU5o6zKmccmVS0Ygm3pHpM2T3R/Nh/6dzd148+fb3fHzt9OXw+ZD23WxLJIvX86v952EMSUFGK6uPmc25AEPe377Dr9+g6tH5WojjcIgM+okuVrmey612wxyQdzd786HbkWQzM0Kh9V023n81r77CGdn7ptuA2xxX8oi4pQZBvZmx4Nud/zNK37b8Lc2vFr3btZLXD7y41cx7TAUnzMT9FF0oMiLBZYD0QhXpkVk5xD2vab55796wjZIR8fU+OXBfn4fdrG1NguZzGUnwykJ0pBQyVgkCOhGNprSllRck71Ho04rtALR2edUY4a1hsOcGXr6wXBxFXl496zjxTj86dfxmO5qJQ0BFNmw+CQWUimlRdeEWPIuZjsc9Pq+fPG2P3piT9famuqyLAdYljksfZv5AphAlHTcbPLT76k/pC2tlNFJo8pora6+vdldHXD1hKVLvsQxpGQyz96Oe+wesLvnt7fxNutPvrM6vLpfcaDAQBnj6oPy5stmg4+jmXoV3aUBEBc5F8TIZQ2DHeRd/dFKHojkPm1qenvPf7rna4wfOwKzZMhcBvllBQhhkkqHLJSho2llhnAcE1UsWCJaThwcGbPUmM1COc942ONun0+e2kfPC1ubinyFJzP/1UP/B2397z+UjMYhxw2rVMxhSstTy9vVDuxH9pm7HW/v/dub6fLx8NEz5M3MWuj9xN0tma2FXq1L5gu6k0XENDNlDgIy68qUQRjMNM5XH3J/n/tXBU6u+tp0VuGeU2re4+4ONzsc5WcX9ntjDGN7kAqzNWgyW+niEdDLqxe9wtcOHVjc1BUl4IKfzB9KOxxyPsppqYyGLu0Db+7xT+75Rw95fTk6p+RqyTp35GJjkJjJYqXsE+buip64a2jkFiwhq5TD3TJTgALZLCZm5yH6PK/ud7F9hA+/a9RBHTSq8rJMZvZ/e7P+am1/v+uDEZjmvkIdVKqBJ4tenyIOiqPtD3zzwHc7Pnm2eva0K9nMraK7aMsiJRBgBddc1doiImVaIq8RczPjYkEi0A1BDMV3U2wrrj7yXfjnu/rybv04sZ0ij9M8qadKweUjfLSFI+aG4wEZTA4394fthtuWqO3quanUr7+YDxPPSq5GDgNKIQ3vE0rQpWMT4ZAdjjnNyOa/2dsf3/N/vMd4ef54mEwImC2CFFIS3Wx5qany64N9tvUr5JiIgoKkJDE7EqQYSaUU1mb1Ga3lrq+Ox/7kOT79vg2MfoSKIUDGEhcX7XD208/+xTcvPr55+/zcnhbbrHsdwkmC2TOa7Wd7c+TdpPVGP/gRzrY9Wj+GU24MhyF9P8XaC4piz7j3ZW9Fawh6dK63Xqr50N8bhBhII51+DM3Kqn4x5se50r1Wax981em0drnm2VnbDtn3+e5WdBz3uW9DIOezcavpcWf0ZM0nTziW8cXX/X6nw8zNyKEEC6yeuokAg9aj9+YP95iCX032z+/wJ3O53q4+3haPLnNXX/bqBSksfp4lYLqVf7M/e3ucf2ftz8YcIwanO8KoVEwik1Ake3ifcThomhFF3/mJf/S8s2f2307qWAL6xlpxCGWaRxv5FnZ4gL3zwXA5YONy4fboLw7M9fzpp+XDp6R6TKkgW7qcPUsXXZvBjvexe4norEW0VhauMUKz3b5qQrrbuPWyXtBKORjJ46SjbLrT/Ba9PTwZsZp7KQ4gPHcHv7mPW2MdPSn13poqS2SsHj26ffdmX7MyGbQSl49ye8HXr/nm23y7G0dis0kEuASDyXrmruHuyP1UX4f+yb78xaE/vSofbThqcuecwim4KYGkFwE9YgH4imCfz5sv+vSj/fzjlV8N/cxVHI2ckXCD1TnyeEC7r6jt0Wf47ANf15kIibEswj11SZhhHjqP+f5uf1XMrV1RWBXvuHBeDKqjTFpt+kXHFDy87F/e2uW1D2NpaD3hc2THuxjaEeqJ0Fg0btPqso1JyizAIEZDdPVZ017TzgGyiIlD193Mb7+1bcvrAWdnOa5Vqkpd8moxN+yOdrvPh/0cpFBDeLRuhX74/G2pERsvwSVmNT2s8tGHw/X59ILP/+RFmd68W+12YzYnUz71vG/xkOjCvfwd2/Pz8enWXD3lS4SqCWQx66ToS7yMLdsyiyFLxa7Wv5h9PsTjSZfMtZc0aFXK9vr1bn53dyytf+fJ9Ds/9utnOcxdLZRQLFKLkzlAnW1ij/n7T7br21daDdaGMdrVNs6usK0shigC04BVR4YdJ9zt890rZnVfDYuL8251+WCPVvPLi3G3Pkc1mYN1ybx+3xkLsbiCOuYJ0Tgf+HCPIjvAbGqbhsdbXq2xWidGWMEi1CyARZQVVyu7PGC316v7PHY+2sTFgJf7rK75GBbGUTQl4dWI8HX5kX09/uEP/qj/z+5fTD/7V3/Wj3fbgtUUw9rO1gj1l/fjxsfz4QyxF5k6cU2k5Xsz6m+XWJCmyGIgoE0H3IvlphS2IxBfj8Pt08ffe/rJedZxN53Voc9ff3n7AvvpahXDULCEoVGKJU+e2TQ33tk4b66vPJ+/++rTK7/eqq4wrAhkQGWgHCmUIAI2gkW7ye4Pevsme+VIbK++d3b3m6fnex9hnlZQKpatVYtLC9KSOe+ONBFoDABRcLxDoj154ucbbbccavNKqy6L984i0HBiCyo2Kw1rlBtly+GsbJNq9a6njjPdVYSRPdPpyHx57zf3uw/6r6+++foH5zu76ElOwV3jvvl9xxzzmtuOXEHUCXMD1MGQnFaWgr5wX7YkxcU029pDj3h8OsbzGo+22NT+iZdfxt0Xb3/26Ozp3/rks2E1zry8/WXZvX65n2/WG27PbRhJRASiIcPnFq/mtMcffPfR2fe//Pn3rlQed64TbvC0xR2/7DQUFUBfgFUIqYbVyr9419/58PzrP338uNtAryqV7qoDT2v1dHIQJOVmlshTP4JIWWJT4nKT++16ZicnLyhFNC1jvU4x7EqTgyS64QJZu7+88d0xL6/L66/63Hg8IIxezXv4MXvB63z2yp641ev+1Qdn76orDQ1sHXPwMOd+0lXzb477r3t/m0MAdrJ4y5YfxvdAtFJSpIpZ2XF1jfbDTXw2Ts/WOltxKObExucnPP7dQL9/x+nX1rntOG/ZEb1qOvbjHqvVMGzhSh4tmg4z/qythuvrP3z4xYdnYY/Bc3q1IdOrm9FpiFjs/kmhwI1r0kuSaIf87hVnxsWWtnIr6YVWxYKo70OoT2J7MJbNpABggoveNcw+F1wOwP5gzrKpGnsf0kouU8/pyxHtBMw7HZ5l7GdnfvOg1Xk/e8x3r4fusVWMpcyl4Oz8zeo70vyMb9Z3N0NMthKXfg2i0kMlWBtKi6u9nh30m0P/uq8PQlhSiC5zAy1DxSzUFxoqMsuz2v5w6D9ezXULH1ALnCgEC1DMaCUT2bAE6JiKL9ZXZWA6tv0B6wGFuZ/98wnrsX12/9dP4359aTAMnbLUQPnyq8pkQiz03gItZZU71l4CGhDbEcPafIharLib5/tEl8Ur/W9DlBZPn3maUGBDUg2taSy47IaeywS8WENNJ2HhCdpawmuX/IcCG1Ubyp737+LZpyuuy1df29Wcj4Ye5+v57OOCm8vd27Pjg0piWOLtBNdioYygyeGQI7yXGhvTen/41ey3WlWY1DIzjTihWVpe5pDK/3wzPdpEGXJFN8oYMMDplUvAa5JLxEZQIDuTCToSLMSx2+2uJ3BzxIsdf/KsfjTdDBuLGgNpXWawYtCyUA6LZECmJRABDoYYlAUrLFDXKEPWAlVlDfgSmmQLfcCTuYH2Pps6AXdCcKcP9JYlmKE+YW5YWek9qp9G+n+rcCNgCkCOJFysg2rl7cH6kN/7gzKcP/ryL9/s9n4290fx52er7oPnik4jFSQcVhdQHkmYWIBNZqNZAUv/tCjf8WctW3VPpnJZKilRi7uapFCerLUZaI7FR2+EF1o5ZeSclksQaeFLxhYQ/ZRyndC6BsQX+/qL2/7k2fqytmTpNUdTlaeW+GLZya4GN5MxT4akZa2HltQpIn1gGeElzQAHC8X36T22bAA0LF1XnAygTBotF59zRRkQoSJmcL+PbXhdl1KdPXrmAigt4R+QCTpthlgWTTky1N5x9cn6sx9cjZ5f//KmWhZSDivyhS+ELQTiguhQoJiRIS1BA8VZR5wBn87xdjd93gQzLG07GQpRdsoOQVl7VKMT5kk78b5atvosCsIlYGZZsBSLNOi9TFsQtDI+X+Fw4ZvzMt3st6shTDUS3jEQG8NA9GWxN+Vc9tGeStCiEeBJ9VccpdCcp/bhlBZMc9BhxlIqyR7oc8MShM2Td9rBpGpBNwXDS50ntTm2l3Z+fpGZ82Gapgc3T8m4UCtaNusBOL1UZLvT7ut3l5+sHl3heO0WNg7hA+FYYMFlBlv2PuIUpUL0U2uQQiRNHCzHTX7U9W62ew6+CDJxCm1yIzINKFpSkUhw0Vjzt+m6y86y99FKWgLnlqfQAPiSYUOYxtI+ORv+6pv9GvWj0l0hWQ7E2lRyQZTppCFO++xVCiW0lkamydwyVZbEdRqd8pCnF5rJSnF3N6PRaBmB036KJUoFggxmPO33c7PwpNXjIZS9RZx9+rur7jcv/tge9tniRLgvS8ZxilsS1MhDx3yze92/iKmwt3HlHBZAiksa9GlT7IlYP+0GAczNu2IJC0KaARp1UfKJx21O8GoAUkYyTnJJEIXLN8digT/lKNGWV57QSQS09CDkEmKPk9U1UcB0peGc7cpsPxXrfRCas9iy+jrTwaVsmxc3d1g1Fmv7hpCQhJ2yyRYE3LDkt9iwVKGkc1xfWtlaKb3PXmH9NRD4bYzPwh/xVBYEW0wsxz1jRkyH+eZtOX80bC/m/WGJcz9RQ4ISEYiMDuvi4agejnd52M/jgFK6mb9Xb54YxRMlSeo90bis9jLaqdGNpYhwdFyWLMdoXgSl0aGyiI7AU57YIjg7QdQGUgtfm+Aw1mmenfCTaMVIlJIyUqQxIAaKkMhnF+Xrl3NDZYapl4kVRsEIVSvVYWW4eMpVmeesWEV7EXnHbtKynGtJpFqCqN4HNAC1DFaYnFKrMj7fPLneffuLYagNPqfl1LWUQy5RHDIvCx+ZqfkIdOu7dtBX9vAiIzTnsg83O5VQR8zMYAJBKbBPvJos7ts42HZDQIREvt9pf3rqYcZq2RXKEJPWU5laSLeI1JLNAQym0djyPa8IiHTyFOj22/gVnYSlkODFx7EQKWi9XmWkeqOZRPG34hSYY4GCljd0XaK4dqpnqaFTi20xoURPeIaZq26Gs+fTmy/a/iuPY8qUEYEInfbynZ6uZaPmEo0UqXG9WWXi/PmPjjla+VJ1E/t7hzJ0Ej28BymWM6NPoaxz621WAXS3mw9IAj0kLAEzEqIvgBLmWdEws9wcer6Ni1K3FV4W6vb9Mfhe9E6nDdXHldFzt2u9LUqRiOyJSMSS/JNIgbRq1iMIL2AgYYQxUyaUEBjwJRBrWZtWbHWxteplGDJjHIfD/V3bZW9Bt4gsp7NCS6Va9N8AKkXHUT1jbiqW6g1GstAyI0ym/vrzuP+mzwf2GEjMvQeiW8bimzJkQe/oUkGmRU9SxXvrR66eR46aXktTGFWGfthbnJafnvTheVK/Qmo9Dw1zYIgIMiZk+DxxOi4BI6ddcUnNYS2g1LFldz3d2taB5VwgUqwJAUtKm2cazNYX19/53VmYv/4LTW/jOHeVZXl9B5oxZTarJ1I2dDUjstRglo5gdlUzCeV9OAwA9tR2u2JVyz6O18PVVbt/06bjcXfIFm7We6ZOomPgPQjwvrWWUNzmniGEsofgopihU6FjmEfsDpYibRZTtmQOZipzibs7hYGddDiSpIiYjtNQZkdTO7Zp1+djn+fT+y6kFiUnMpGRBGE4hKawaVafIidkaNkCvTgco6t3RWcPzspuPDZHxvce29W6d2E+pjXVQhJLtG1PIGOmWRdv7/X5X9XNuWEgCqloUlAhyaMrInsoF+ZSyMWhJHUlQCcXfXNJLU6zzIQH5/tuZ5mb66ef/Af3D79i9Ok+rI6B3oVOoRgDKSQRp+mISoswtmT4Xce+29DVC7TEUgWMUEozYe83gS9VL6AOhUVHZFhhZjYxRdcpjToCMrFxevf5i7uv5sNcFDEHWqijByUk2aFMnjbdQkh7mDA3vHspjr5irEb3etrSHF0WKsk2yxutM7paYjvoyTpYgKbj0coalsg4dSChjASQagr23cO3w/qdRGeZs4Wih3pgDrXEnD5HHJJ7ZVeZk3A4c2ZaLjvMQKBEjyD7sjueZqJmlLSrZ8/uHn4539wXW7VNOexoPZeDQ++XKb+v0UplRs5pr8PuOg8R6xnwJBn91JVkQ2YY04tl5CJ2D3FOtNCh49ixLtJp5RszEJ2kmPCg5k5LoUN2mKWAGhBUeiaiqzdlz/e/W6JVa3h8aWerpsrBOQzLDvbT62rODJI5D4q07UED86Fr6lybr4ruclmemHy/DDjokbk0X4s9/3CcUgiyRfZkplqyJefAHDZnHgNTWAMbEkhHNqSBJoRQ3P9/ec2j42c43HwAAAAASUVORK5CYII=\n",
                "text/plain": "<PIL.Image.Image image mode=RGB size=128x96 at 0x7F68BB5E7290>"
              }
            ],
            "_view_module": "@jupyter-widgets/output",
            "_model_module_version": "1.0.0",
            "_view_count": null,
            "_view_module_version": "1.0.0",
            "layout": "IPY_MODEL_db0c205a42f94651aa405a8811b161bc",
            "_model_module": "@jupyter-widgets/output"
          }
        },
        "81b9d63b109e4ea4b2c67d1f22ac55df": {
          "model_module": "@jupyter-widgets/controls",
          "model_name": "LabelModel",
          "state": {
            "_view_name": "LabelView",
            "style": "IPY_MODEL_3083e99d484144ce9379c4a0004bfd6a",
            "_dom_classes": [],
            "description": "",
            "_model_name": "LabelModel",
            "placeholder": "​",
            "_view_module": "@jupyter-widgets/controls",
            "_model_module_version": "1.5.0",
            "value": "Prediction: orange; Probability: 0.9555",
            "_view_count": null,
            "_view_module_version": "1.5.0",
            "description_tooltip": null,
            "_model_module": "@jupyter-widgets/controls",
            "layout": "IPY_MODEL_a625647facb6494fbfda5d10ea333fe2"
          }
        },
        "693b41c4b41047dbb1f733e8a3791a19": {
          "model_module": "@jupyter-widgets/controls",
          "model_name": "DescriptionStyleModel",
          "state": {
            "_view_name": "StyleView",
            "_model_name": "DescriptionStyleModel",
            "description_width": "",
            "_view_module": "@jupyter-widgets/base",
            "_model_module_version": "1.5.0",
            "_view_count": null,
            "_view_module_version": "1.2.0",
            "_model_module": "@jupyter-widgets/controls"
          }
        },
        "951f6f7158154a6db37bfc5e6be66039": {
          "model_module": "@jupyter-widgets/base",
          "model_name": "LayoutModel",
          "state": {
            "_view_name": "LayoutView",
            "grid_template_rows": null,
            "right": null,
            "justify_content": null,
            "_view_module": "@jupyter-widgets/base",
            "overflow": null,
            "_model_module_version": "1.2.0",
            "_view_count": null,
            "flex_flow": null,
            "width": null,
            "min_width": null,
            "border": null,
            "align_items": null,
            "bottom": null,
            "_model_module": "@jupyter-widgets/base",
            "top": null,
            "grid_column": null,
            "overflow_y": null,
            "overflow_x": null,
            "grid_auto_flow": null,
            "grid_area": null,
            "grid_template_columns": null,
            "flex": null,
            "_model_name": "LayoutModel",
            "justify_items": null,
            "grid_row": null,
            "max_height": null,
            "align_content": null,
            "visibility": null,
            "align_self": null,
            "height": null,
            "min_height": null,
            "padding": null,
            "grid_auto_rows": null,
            "grid_gap": null,
            "max_width": null,
            "order": null,
            "_view_module_version": "1.2.0",
            "grid_template_areas": null,
            "object_position": null,
            "object_fit": null,
            "grid_auto_columns": null,
            "margin": null,
            "display": null,
            "left": null
          }
        },
        "728800366af84de68e94602422e19709": {
          "model_module": "@jupyter-widgets/controls",
          "model_name": "ButtonStyleModel",
          "state": {
            "_view_name": "StyleView",
            "_model_name": "ButtonStyleModel",
            "_view_module": "@jupyter-widgets/base",
            "_model_module_version": "1.5.0",
            "_view_count": null,
            "button_color": null,
            "font_weight": "",
            "_view_module_version": "1.2.0",
            "_model_module": "@jupyter-widgets/controls"
          }
        },
        "f5ca5c593db848c794445f244385d225": {
          "model_module": "@jupyter-widgets/base",
          "model_name": "LayoutModel",
          "state": {
            "_view_name": "LayoutView",
            "grid_template_rows": null,
            "right": null,
            "justify_content": null,
            "_view_module": "@jupyter-widgets/base",
            "overflow": null,
            "_model_module_version": "1.2.0",
            "_view_count": null,
            "flex_flow": null,
            "width": null,
            "min_width": null,
            "border": null,
            "align_items": null,
            "bottom": null,
            "_model_module": "@jupyter-widgets/base",
            "top": null,
            "grid_column": null,
            "overflow_y": null,
            "overflow_x": null,
            "grid_auto_flow": null,
            "grid_area": null,
            "grid_template_columns": null,
            "flex": null,
            "_model_name": "LayoutModel",
            "justify_items": null,
            "grid_row": null,
            "max_height": null,
            "align_content": null,
            "visibility": null,
            "align_self": null,
            "height": null,
            "min_height": null,
            "padding": null,
            "grid_auto_rows": null,
            "grid_gap": null,
            "max_width": null,
            "order": null,
            "_view_module_version": "1.2.0",
            "grid_template_areas": null,
            "object_position": null,
            "object_fit": null,
            "grid_auto_columns": null,
            "margin": null,
            "display": null,
            "left": null
          }
        },
        "6c101ffbc1cc4cb5b1b5afbcea4b8cb1": {
          "model_module": "@jupyter-widgets/controls",
          "model_name": "ButtonStyleModel",
          "state": {
            "_view_name": "StyleView",
            "_model_name": "ButtonStyleModel",
            "_view_module": "@jupyter-widgets/base",
            "_model_module_version": "1.5.0",
            "_view_count": null,
            "button_color": null,
            "font_weight": "",
            "_view_module_version": "1.2.0",
            "_model_module": "@jupyter-widgets/controls"
          }
        },
        "e595bb5a9f334869b0de10b5ba87fb3c": {
          "model_module": "@jupyter-widgets/base",
          "model_name": "LayoutModel",
          "state": {
            "_view_name": "LayoutView",
            "grid_template_rows": null,
            "right": null,
            "justify_content": null,
            "_view_module": "@jupyter-widgets/base",
            "overflow": null,
            "_model_module_version": "1.2.0",
            "_view_count": null,
            "flex_flow": null,
            "width": null,
            "min_width": null,
            "border": null,
            "align_items": null,
            "bottom": null,
            "_model_module": "@jupyter-widgets/base",
            "top": null,
            "grid_column": null,
            "overflow_y": null,
            "overflow_x": null,
            "grid_auto_flow": null,
            "grid_area": null,
            "grid_template_columns": null,
            "flex": null,
            "_model_name": "LayoutModel",
            "justify_items": null,
            "grid_row": null,
            "max_height": null,
            "align_content": null,
            "visibility": null,
            "align_self": null,
            "height": null,
            "min_height": null,
            "padding": null,
            "grid_auto_rows": null,
            "grid_gap": null,
            "max_width": null,
            "order": null,
            "_view_module_version": "1.2.0",
            "grid_template_areas": null,
            "object_position": null,
            "object_fit": null,
            "grid_auto_columns": null,
            "margin": null,
            "display": null,
            "left": null
          }
        },
        "3083e99d484144ce9379c4a0004bfd6a": {
          "model_module": "@jupyter-widgets/controls",
          "model_name": "DescriptionStyleModel",
          "state": {
            "_view_name": "StyleView",
            "_model_name": "DescriptionStyleModel",
            "description_width": "",
            "_view_module": "@jupyter-widgets/base",
            "_model_module_version": "1.5.0",
            "_view_count": null,
            "_view_module_version": "1.2.0",
            "_model_module": "@jupyter-widgets/controls"
          }
        },
        "a625647facb6494fbfda5d10ea333fe2": {
          "model_module": "@jupyter-widgets/base",
          "model_name": "LayoutModel",
          "state": {
            "_view_name": "LayoutView",
            "grid_template_rows": null,
            "right": null,
            "justify_content": null,
            "_view_module": "@jupyter-widgets/base",
            "overflow": null,
            "_model_module_version": "1.2.0",
            "_view_count": null,
            "flex_flow": null,
            "width": null,
            "min_width": null,
            "border": null,
            "align_items": null,
            "bottom": null,
            "_model_module": "@jupyter-widgets/base",
            "top": null,
            "grid_column": null,
            "overflow_y": null,
            "overflow_x": null,
            "grid_auto_flow": null,
            "grid_area": null,
            "grid_template_columns": null,
            "flex": null,
            "_model_name": "LayoutModel",
            "justify_items": null,
            "grid_row": null,
            "max_height": null,
            "align_content": null,
            "visibility": null,
            "align_self": null,
            "height": null,
            "min_height": null,
            "padding": null,
            "grid_auto_rows": null,
            "grid_gap": null,
            "max_width": null,
            "order": null,
            "_view_module_version": "1.2.0",
            "grid_template_areas": null,
            "object_position": null,
            "object_fit": null,
            "grid_auto_columns": null,
            "margin": null,
            "display": null,
            "left": null
          }
        },
        "db0c205a42f94651aa405a8811b161bc": {
          "model_module": "@jupyter-widgets/base",
          "model_name": "LayoutModel",
          "state": {
            "_view_name": "LayoutView",
            "grid_template_rows": null,
            "right": null,
            "justify_content": null,
            "_view_module": "@jupyter-widgets/base",
            "overflow": null,
            "_model_module_version": "1.2.0",
            "_view_count": null,
            "flex_flow": null,
            "width": null,
            "min_width": null,
            "border": null,
            "align_items": null,
            "bottom": null,
            "_model_module": "@jupyter-widgets/base",
            "top": null,
            "grid_column": null,
            "overflow_y": null,
            "overflow_x": null,
            "grid_auto_flow": null,
            "grid_area": null,
            "grid_template_columns": null,
            "flex": null,
            "_model_name": "LayoutModel",
            "justify_items": null,
            "grid_row": null,
            "max_height": null,
            "align_content": null,
            "visibility": null,
            "align_self": null,
            "height": null,
            "min_height": null,
            "padding": null,
            "grid_auto_rows": null,
            "grid_gap": null,
            "max_width": null,
            "order": null,
            "_view_module_version": "1.2.0",
            "grid_template_areas": null,
            "object_position": null,
            "object_fit": null,
            "grid_auto_columns": null,
            "margin": null,
            "display": null,
            "left": null
          }
        }
      }
    }
  },
  "cells": [
    {
      "cell_type": "markdown",
      "metadata": {
        "id": "view-in-github",
        "colab_type": "text"
      },
      "source": [
        "<a href=\"https://colab.research.google.com/github/ami3001/FruitClassifier/blob/main/DeploymentVoila.ipynb\" target=\"_parent\"><img src=\"https://colab.research.google.com/assets/colab-badge.svg\" alt=\"Open In Colab\"/></a>"
      ]
    },
    {
      "cell_type": "code",
      "metadata": {
        "colab": {
          "base_uri": "https://localhost:8080/"
        },
        "id": "dLYk-FAtRqxV",
        "outputId": "c6f2d0f3-bbbe-4a2d-9525-3f2a04e67e09"
      },
      "source": [
        "!pip install fastai --upgrade -q"
      ],
      "execution_count": null,
      "outputs": [
        {
          "output_type": "stream",
          "text": [
            "\u001b[K     |████████████████████████████████| 194kB 9.1MB/s \n",
            "\u001b[K     |████████████████████████████████| 12.8MB 233kB/s \n",
            "\u001b[K     |████████████████████████████████| 61kB 9.5MB/s \n",
            "\u001b[K     |████████████████████████████████| 776.8MB 24kB/s \n",
            "\u001b[31mERROR: torchtext 0.9.1 has requirement torch==1.8.1, but you'll have torch 1.7.1 which is incompatible.\u001b[0m\n",
            "\u001b[?25h"
          ],
          "name": "stdout"
        }
      ]
    },
    {
      "cell_type": "code",
      "metadata": {
        "id": "N_bo3d5tRv3k"
      },
      "source": [
        "from fastai.vision.all import *\n",
        "import ipywidgets as widgets\n",
        "import requests"
      ],
      "execution_count": null,
      "outputs": []
    },
    {
      "cell_type": "code",
      "metadata": {
        "id": "D9587rrZR2Yt"
      },
      "source": [
        "def download_file_from_google_drive(id,destination):\n",
        "  URL = \"https://docs.google.com/uc?export=download\"\n",
        "  session = requests.Session()\n",
        "  response = session.get(URL, params = {'id' :id},stream = True)\n",
        "  token = get_confirm_token(response)\n",
        "  if token:\n",
        "    params = {'id' : id, 'confirm':token}\n",
        "    response = session.get(URL,params = params, stream = True)\n",
        "    save_response_content(response, destination)\n",
        "def get_confirm_token(response):\n",
        "  for key, value in response.cookies.items():\n",
        "    if key.startswith('download_warning'):\n",
        "      return value\n",
        "  return None\n",
        "def save_response_content(response,destination):\n",
        "  CHUNK_SIZE = 32768\n",
        "  with open(destination, \"wb\") as f:\n",
        "    for chunk in response.iter_content(CHUNK_SIZE):\n",
        "      if chunk:\n",
        "        f.write(chunk)"
      ],
      "execution_count": null,
      "outputs": []
    },
    {
      "cell_type": "code",
      "metadata": {
        "id": "Sl_S0Ma4UoOR"
      },
      "source": [
        "file_id = '1-2vs8mpoPNJm9X5sndndIB_KBZHYn91C'\n",
        "destination = './fruits_classifier.pk1'\n",
        "download_file_from_google_drive(file_id,destination)"
      ],
      "execution_count": null,
      "outputs": []
    },
    {
      "cell_type": "markdown",
      "metadata": {
        "id": "5eZE6BhHVn1b"
      },
      "source": [
        "##Classifier zu Fruits \n",
        "\n",
        "Folgende Früchte werden erkannt:\n",
        "\n",
        "\n",
        "*   Orange\n",
        "*   Banana\n",
        "*   Apple\n",
        "\n",
        "\n"
      ]
    },
    {
      "cell_type": "code",
      "metadata": {
        "id": "6ox2XRvjV9Cf"
      },
      "source": [
        "path = Path()\n",
        "inference = load_learner(path/'fruits_classifier.pk1',cpu = True)"
      ],
      "execution_count": null,
      "outputs": []
    },
    {
      "cell_type": "code",
      "metadata": {
        "colab": {
          "base_uri": "https://localhost:8080/",
          "height": 241,
          "referenced_widgets": [
            "cee648a7bbf84ad78b5eb421a7f89137",
            "a15c4e0f3129486aa039a2ca178c1a72",
            "9e3e8b17ab1344b39af222ca378d5d3c",
            "227460db003a424da541df6b3b0d8188",
            "876290ef310948b7baf1c916e46bfbf1",
            "626b64be9a8d48c3a53bcbb23cc4e454",
            "81b9d63b109e4ea4b2c67d1f22ac55df",
            "693b41c4b41047dbb1f733e8a3791a19",
            "951f6f7158154a6db37bfc5e6be66039",
            "728800366af84de68e94602422e19709",
            "f5ca5c593db848c794445f244385d225",
            "6c101ffbc1cc4cb5b1b5afbcea4b8cb1",
            "e595bb5a9f334869b0de10b5ba87fb3c",
            "3083e99d484144ce9379c4a0004bfd6a",
            "a625647facb6494fbfda5d10ea333fe2",
            "db0c205a42f94651aa405a8811b161bc"
          ]
        },
        "id": "NffnHk-zWGOt",
        "outputId": "7d6dd07f-3a9f-4b65-a341-1eee8df0049c"
      },
      "source": [
        "btn_upload = widgets.FileUpload()\n",
        "lbl_pred = widgets.Label()\n",
        "btn_run = widgets.Button(description='Classify')\n",
        "out_p1 = widgets.Output()\n",
        "def on_click_classify(change):\n",
        "  img = PILImage.create(btn_upload.data[-1])\n",
        "  out_p1.clear_output()\n",
        "  with out_p1: display(img.to_thumb(128,128))\n",
        "  pred,pred_idx,probs = inference.predict(img)\n",
        "  lbl_pred.value = f'Prediction: {pred}; Probability: {probs[pred_idx]:.04f}'\n",
        "  \n",
        "btn_run.on_click(on_click_classify)\n",
        "widgets.VBox([widgets.Label('Select your fruit!'),\n",
        "              btn_upload,btn_run,out_p1,lbl_pred])"
      ],
      "execution_count": null,
      "outputs": [
        {
          "output_type": "display_data",
          "data": {
            "application/vnd.jupyter.widget-view+json": {
              "model_id": "cee648a7bbf84ad78b5eb421a7f89137",
              "version_minor": 0,
              "version_major": 2
            },
            "text/plain": [
              "VBox(children=(Label(value='Select your fruit!'), FileUpload(value={}, description='Upload'), Button(descripti…"
            ]
          },
          "metadata": {
            "tags": []
          }
        },
        {
          "output_type": "display_data",
          "data": {
            "text/html": [
              ""
            ],
            "text/plain": [
              "<IPython.core.display.HTML object>"
            ]
          },
          "metadata": {
            "tags": []
          }
        },
        {
          "output_type": "display_data",
          "data": {
            "text/html": [
              ""
            ],
            "text/plain": [
              "<IPython.core.display.HTML object>"
            ]
          },
          "metadata": {
            "tags": []
          }
        }
      ]
    }
  ]
}